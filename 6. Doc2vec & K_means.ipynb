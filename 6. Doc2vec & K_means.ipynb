{
  "nbformat": 4,
  "nbformat_minor": 0,
  "metadata": {
    "colab": {
      "name": "Doc2vec  & K-means.ipynb",
      "provenance": [],
      "collapsed_sections": []
    },
    "kernelspec": {
      "name": "python3",
      "display_name": "Python 3"
    }
  },
  "cells": [
    {
      "cell_type": "markdown",
      "metadata": {
        "id": "jb5gmDsirEGJ",
        "colab_type": "text"
      },
      "source": [
        ""
      ]
    },
    {
      "cell_type": "code",
      "metadata": {
        "id": "JsDhdQ_jur-S",
        "colab_type": "code",
        "colab": {
          "resources": {
            "http://localhost:8080/nbextensions/google.colab/files.js": {
              "data": "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",
              "ok": true,
              "headers": [
                [
                  "content-type",
                  "application/javascript"
                ]
              ],
              "status": 200,
              "status_text": ""
            }
          },
          "base_uri": "https://localhost:8080/",
          "height": 73
        },
        "outputId": "c64ae314-dead-4e58-84f2-3b46b7b1c4eb"
      },
      "source": [
        "from google.colab import files\n",
        "uploaded = files.upload()"
      ],
      "execution_count": 185,
      "outputs": [
        {
          "output_type": "display_data",
          "data": {
            "text/html": [
              "\n",
              "     <input type=\"file\" id=\"files-2c698353-c989-48e9-9b05-2511972ef94c\" name=\"files[]\" multiple disabled\n",
              "        style=\"border:none\" />\n",
              "     <output id=\"result-2c698353-c989-48e9-9b05-2511972ef94c\">\n",
              "      Upload widget is only available when the cell has been executed in the\n",
              "      current browser session. Please rerun this cell to enable.\n",
              "      </output>\n",
              "      <script src=\"/nbextensions/google.colab/files.js\"></script> "
            ],
            "text/plain": [
              "<IPython.core.display.HTML object>"
            ]
          },
          "metadata": {
            "tags": []
          }
        },
        {
          "output_type": "stream",
          "text": [
            "Saving extraction_v2.csv to extraction_v2 (1).csv\n"
          ],
          "name": "stdout"
        }
      ]
    },
    {
      "cell_type": "code",
      "metadata": {
        "id": "llOAKToPu_VV",
        "colab_type": "code",
        "colab": {
          "base_uri": "https://localhost:8080/",
          "height": 502
        },
        "outputId": "95fb7d07-aaf4-4cee-989b-5888f9b6fcbc"
      },
      "source": [
        "import io\n",
        "import pandas as pd\n",
        "!pip install nltk\n",
        "!pip install pyspellchecker\n",
        "import nltk\n",
        "nltk.download('wordnet')\n",
        "from nltk.stem import WordNetLemmatizer \n",
        "from nltk.stem import PorterStemmer \n",
        "from spellchecker import SpellChecker\n",
        "from tqdm import tqdm\n",
        "data_processed = pd.read_csv(io.BytesIO(uploaded['extraction_v2.csv']),encoding=\"latin1\")\n",
        "data_processed"
      ],
      "execution_count": 186,
      "outputs": [
        {
          "output_type": "stream",
          "text": [
            "Requirement already satisfied: nltk in /usr/local/lib/python3.6/dist-packages (3.2.5)\n",
            "Requirement already satisfied: six in /usr/local/lib/python3.6/dist-packages (from nltk) (1.15.0)\n",
            "Requirement already satisfied: pyspellchecker in /usr/local/lib/python3.6/dist-packages (0.5.5)\n",
            "[nltk_data] Downloading package wordnet to /root/nltk_data...\n",
            "[nltk_data]   Package wordnet is already up-to-date!\n"
          ],
          "name": "stdout"
        },
        {
          "output_type": "execute_result",
          "data": {
            "text/html": [
              "<div>\n",
              "<style scoped>\n",
              "    .dataframe tbody tr th:only-of-type {\n",
              "        vertical-align: middle;\n",
              "    }\n",
              "\n",
              "    .dataframe tbody tr th {\n",
              "        vertical-align: top;\n",
              "    }\n",
              "\n",
              "    .dataframe thead th {\n",
              "        text-align: right;\n",
              "    }\n",
              "</style>\n",
              "<table border=\"1\" class=\"dataframe\">\n",
              "  <thead>\n",
              "    <tr style=\"text-align: right;\">\n",
              "      <th></th>\n",
              "      <th>content</th>\n",
              "    </tr>\n",
              "  </thead>\n",
              "  <tbody>\n",
              "    <tr>\n",
              "      <th>0</th>\n",
              "      <td>New charge likely against Theranos founder Eli...</td>\n",
              "    </tr>\n",
              "    <tr>\n",
              "      <th>1</th>\n",
              "      <td>Employers submitting false UIF claims, warns c...</td>\n",
              "    </tr>\n",
              "    <tr>\n",
              "      <th>2</th>\n",
              "      <td>Lori Loughlin confident her college admissions...</td>\n",
              "    </tr>\n",
              "    <tr>\n",
              "      <th>3</th>\n",
              "      <td>fraud related to small business 17 Rikers offi...</td>\n",
              "    </tr>\n",
              "    <tr>\n",
              "      <th>4</th>\n",
              "      <td>Elon Musk Wipes Nearly $15 Billion Off Teslaâ...</td>\n",
              "    </tr>\n",
              "    <tr>\n",
              "      <th>...</th>\n",
              "      <td>...</td>\n",
              "    </tr>\n",
              "    <tr>\n",
              "      <th>492</th>\n",
              "      <td>Coronavirus: CloseExperts have said that inter...</td>\n",
              "    </tr>\n",
              "    <tr>\n",
              "      <th>493</th>\n",
              "      <td>Coronavirus: CloseExperts have said that inter...</td>\n",
              "    </tr>\n",
              "    <tr>\n",
              "      <th>494</th>\n",
              "      <td>A Mokena family just wanted a puppy during the...</td>\n",
              "    </tr>\n",
              "    <tr>\n",
              "      <th>495</th>\n",
              "      <td>A Mokena family just wanted a puppy during the...</td>\n",
              "    </tr>\n",
              "    <tr>\n",
              "      <th>496</th>\n",
              "      <td>News Scan for May 04, 2020 FDA revises rules o...</td>\n",
              "    </tr>\n",
              "  </tbody>\n",
              "</table>\n",
              "<p>497 rows × 1 columns</p>\n",
              "</div>"
            ],
            "text/plain": [
              "                                               content\n",
              "0    New charge likely against Theranos founder Eli...\n",
              "1    Employers submitting false UIF claims, warns c...\n",
              "2    Lori Loughlin confident her college admissions...\n",
              "3    fraud related to small business 17 Rikers offi...\n",
              "4    Elon Musk Wipes Nearly $15 Billion Off Teslaâ...\n",
              "..                                                 ...\n",
              "492  Coronavirus: CloseExperts have said that inter...\n",
              "493  Coronavirus: CloseExperts have said that inter...\n",
              "494  A Mokena family just wanted a puppy during the...\n",
              "495  A Mokena family just wanted a puppy during the...\n",
              "496  News Scan for May 04, 2020 FDA revises rules o...\n",
              "\n",
              "[497 rows x 1 columns]"
            ]
          },
          "metadata": {
            "tags": []
          },
          "execution_count": 186
        }
      ]
    },
    {
      "cell_type": "code",
      "metadata": {
        "id": "QVYTZsztvOJy",
        "colab_type": "code",
        "colab": {
          "base_uri": "https://localhost:8080/",
          "height": 202
        },
        "outputId": "b3ee9aaf-0d20-422b-82ad-d1e72e1bd8f9"
      },
      "source": [
        "data_processed.columns\n",
        "final = pd.DataFrame()\n",
        "final['Content'] = data_processed['content']\n",
        "final.head()\n",
        "\n",
        " "
      ],
      "execution_count": 189,
      "outputs": [
        {
          "output_type": "execute_result",
          "data": {
            "text/html": [
              "<div>\n",
              "<style scoped>\n",
              "    .dataframe tbody tr th:only-of-type {\n",
              "        vertical-align: middle;\n",
              "    }\n",
              "\n",
              "    .dataframe tbody tr th {\n",
              "        vertical-align: top;\n",
              "    }\n",
              "\n",
              "    .dataframe thead th {\n",
              "        text-align: right;\n",
              "    }\n",
              "</style>\n",
              "<table border=\"1\" class=\"dataframe\">\n",
              "  <thead>\n",
              "    <tr style=\"text-align: right;\">\n",
              "      <th></th>\n",
              "      <th>Content</th>\n",
              "    </tr>\n",
              "  </thead>\n",
              "  <tbody>\n",
              "    <tr>\n",
              "      <th>0</th>\n",
              "      <td>New charge likely against Theranos founder Eli...</td>\n",
              "    </tr>\n",
              "    <tr>\n",
              "      <th>1</th>\n",
              "      <td>Employers submitting false UIF claims, warns c...</td>\n",
              "    </tr>\n",
              "    <tr>\n",
              "      <th>2</th>\n",
              "      <td>Lori Loughlin confident her college admissions...</td>\n",
              "    </tr>\n",
              "    <tr>\n",
              "      <th>3</th>\n",
              "      <td>fraud related to small business 17 Rikers offi...</td>\n",
              "    </tr>\n",
              "    <tr>\n",
              "      <th>4</th>\n",
              "      <td>Elon Musk Wipes Nearly $15 Billion Off Teslaâ...</td>\n",
              "    </tr>\n",
              "  </tbody>\n",
              "</table>\n",
              "</div>"
            ],
            "text/plain": [
              "                                             Content\n",
              "0  New charge likely against Theranos founder Eli...\n",
              "1  Employers submitting false UIF claims, warns c...\n",
              "2  Lori Loughlin confident her college admissions...\n",
              "3  fraud related to small business 17 Rikers offi...\n",
              "4  Elon Musk Wipes Nearly $15 Billion Off Teslaâ..."
            ]
          },
          "metadata": {
            "tags": []
          },
          "execution_count": 189
        }
      ]
    },
    {
      "cell_type": "code",
      "metadata": {
        "id": "Ph8lpVTmlt2D",
        "colab_type": "code",
        "colab": {
          "base_uri": "https://localhost:8080/",
          "height": 35
        },
        "outputId": "c14407b1-0382-4da5-fb1a-977f0954aeb0"
      },
      "source": [
        "data=final.drop_duplicates(keep='first', inplace=False)\n",
        "data.shape"
      ],
      "execution_count": 190,
      "outputs": [
        {
          "output_type": "execute_result",
          "data": {
            "text/plain": [
              "(404, 1)"
            ]
          },
          "metadata": {
            "tags": []
          },
          "execution_count": 190
        }
      ]
    },
    {
      "cell_type": "code",
      "metadata": {
        "id": "64h7ZXPImVqG",
        "colab_type": "code",
        "colab": {}
      },
      "source": [
        "import re\n",
        "\n",
        "def decontracted(phrase):\n",
        "    # specific\n",
        "    phrase = re.sub(r\"won't\", \"will not\", phrase)\n",
        "    phrase = re.sub(r\"can\\'t\", \"can not\", phrase)\n",
        "\n",
        "    # general\n",
        "    phrase = re.sub(r\"n\\'t\", \" not\", phrase)\n",
        "    phrase = re.sub(r\"\\'re\", \" are\", phrase)\n",
        "    phrase = re.sub(r\"\\'s\", \" is\", phrase)\n",
        "    phrase = re.sub(r\"\\'d\", \" would\", phrase)\n",
        "    phrase = re.sub(r\"\\'ll\", \" will\", phrase)\n",
        "    phrase = re.sub(r\"\\'t\", \" not\", phrase)\n",
        "    phrase = re.sub(r\"\\'ve\", \" have\", phrase)\n",
        "    phrase = re.sub(r\"\\'m\", \" am\", phrase)\n",
        "    return phrase"
      ],
      "execution_count": 191,
      "outputs": []
    },
    {
      "cell_type": "code",
      "metadata": {
        "id": "u9-f4CzdmYMz",
        "colab_type": "code",
        "colab": {}
      },
      "source": [
        "stopwords= set(['the', 'i', 'me', 'my', 'myself', 'we', 'our', 'ours', 'ourselves', 'you', \"you're\", \"you've\",\\\n",
        "            \"you'll\", \"you'd\", 'your', 'yours', 'yourself', 'yourselves', 'he', 'him', 'his', 'himself', \\\n",
        "            'she', \"she's\", 'her', 'hers', 'herself', 'it', \"it's\", 'its', 'itself', 'they', 'them', 'their',\\\n",
        "            'theirs', 'themselves', 'what', 'which', 'who', 'whom', 'this', 'that', \"that'll\", 'these', 'those', \\\n",
        "            'am', 'is', 'are', 'was', 'were', 'be', 'been', 'being', 'have', 'has', 'had', 'having', 'do', 'does', \\\n",
        "            'did', 'doing', 'a', 'an', 'the', 'and', 'but', 'if', 'or', 'because', 'as', 'until', 'while', 'of', \\\n",
        "            'at', 'by', 'for', 'with', 'about', 'against', 'between', 'into', 'through', 'during', 'before', 'after',\\\n",
        "            'above', 'below', 'to', 'from', 'up', 'down', 'in', 'out', 'on', 'off', 'over', 'under', 'again', 'further',\\\n",
        "            'then', 'once', 'here', 'there', 'when', 'where', 'why', 'how', 'all', 'any', 'both', 'each', 'few', 'more',\\\n",
        "            'most', 'other', 'some', 'such', 'only', 'own', 'same', 'so', 'than', 'too', 'very', \\\n",
        "            's', 't', 'can', 'will', 'just', 'don', \"don't\", 'should', \"should've\", 'now', 'd', 'll', 'm', 'o', 're', \\\n",
        "            've', 'y', 'ain', 'aren', \"aren't\", 'couldn', \"couldn't\", 'didn', \"didn't\", 'doesn', \"doesn't\", 'hadn',\\\n",
        "            \"hadn't\", 'hasn', \"hasn't\", 'haven', \"haven't\", 'isn', \"isn't\", 'ma', 'mightn', \"mightn't\", 'mustn',\\\n",
        "            \"mustn't\", 'needn', \"needn't\", 'shan', \"shan't\", 'shouldn', \"shouldn't\", 'wasn', \"wasn't\", 'weren', \"weren't\", \\\n",
        "            'won', \"won't\", 'wouldn', \"wouldn't\",\"t\",\"eri\",'y',\"re\",'d'])"
      ],
      "execution_count": 192,
      "outputs": []
    },
    {
      "cell_type": "code",
      "metadata": {
        "id": "zWIc8-_rmatM",
        "colab_type": "code",
        "colab": {
          "base_uri": "https://localhost:8080/",
          "height": 191
        },
        "outputId": "23873a9c-2c02-4186-8dbb-45bc5b0cc075"
      },
      "source": [
        "# Combining all the above stundents \n",
        "!pip install nltk\n",
        "!pip install pyspellchecker\n",
        "import nltk\n",
        "nltk.download('wordnet')\n",
        "from nltk.stem import WordNetLemmatizer \n",
        "from nltk.stem import PorterStemmer \n",
        "from spellchecker import SpellChecker\n",
        "from tqdm import tqdm\n",
        "lemmatizer = WordNetLemmatizer()\n",
        "ps = PorterStemmer() \n",
        "spell = SpellChecker()\n",
        "preprocessed_data=pd.DataFrame()\n",
        "\n",
        "spell = SpellChecker(distance=1)\n",
        "def Correct(x):\n",
        "    return spell.correction(x)\n",
        "\n",
        "def Text_preprocessing(sentance):\n",
        "    sentance = decontracted(sentance)\n",
        "    sentance = re.sub(\"\\S*\\d\\S*\", \"\", sentance).strip()\n",
        "    sentance = re.sub('[^A-Za-z]+', ' ', sentance)\n",
        "    sentance = ' '.join(e.lower() for e in sentance.split() if e.lower() not in stopwords)\n",
        "    sentance = ' '.join(Correct(w) for w in sentance.split())\n",
        "    sentance = ' '.join(spell.correction(w) for w in sentance.split())\n",
        "    sentance = ' '.join(lemmatizer.lemmatize(w) for w in sentance.split())\n",
        "    #sentance = ' '.join(ps.stem(w) for w in sentance.split())\n",
        "    return sentance\n",
        "\n",
        "data['Content']= data['Content'].apply(Text_preprocessing)"
      ],
      "execution_count": 194,
      "outputs": [
        {
          "output_type": "stream",
          "text": [
            "Requirement already satisfied: nltk in /usr/local/lib/python3.6/dist-packages (3.2.5)\n",
            "Requirement already satisfied: six in /usr/local/lib/python3.6/dist-packages (from nltk) (1.15.0)\n",
            "Requirement already satisfied: pyspellchecker in /usr/local/lib/python3.6/dist-packages (0.5.5)\n",
            "[nltk_data] Downloading package wordnet to /root/nltk_data...\n",
            "[nltk_data]   Package wordnet is already up-to-date!\n"
          ],
          "name": "stdout"
        },
        {
          "output_type": "stream",
          "text": [
            "/usr/local/lib/python3.6/dist-packages/ipykernel_launcher.py:30: SettingWithCopyWarning: \n",
            "A value is trying to be set on a copy of a slice from a DataFrame.\n",
            "Try using .loc[row_indexer,col_indexer] = value instead\n",
            "\n",
            "See the caveats in the documentation: https://pandas.pydata.org/pandas-docs/stable/user_guide/indexing.html#returning-a-view-versus-a-copy\n"
          ],
          "name": "stderr"
        }
      ]
    },
    {
      "cell_type": "code",
      "metadata": {
        "id": "36AQGQVzmhaM",
        "colab_type": "code",
        "colab": {}
      },
      "source": [
        "#Deduplication of entries\n",
        "data=data.drop_duplicates(keep='first', inplace=False)\n",
        "#Checking to see how much % of data still remains"
      ],
      "execution_count": 195,
      "outputs": []
    },
    {
      "cell_type": "code",
      "metadata": {
        "id": "x4or7ULEmjLi",
        "colab_type": "code",
        "colab": {
          "base_uri": "https://localhost:8080/",
          "height": 35
        },
        "outputId": "fe6499ac-2d0b-42de-8061-c9ca0df11145"
      },
      "source": [
        "data.shape"
      ],
      "execution_count": 196,
      "outputs": [
        {
          "output_type": "execute_result",
          "data": {
            "text/plain": [
              "(366, 1)"
            ]
          },
          "metadata": {
            "tags": []
          },
          "execution_count": 196
        }
      ]
    },
    {
      "cell_type": "code",
      "metadata": {
        "id": "kMSBMH9rmknK",
        "colab_type": "code",
        "colab": {
          "base_uri": "https://localhost:8080/",
          "height": 139
        },
        "outputId": "6b9b0c4b-0edd-4a00-9cad-b1c2c5dd672b"
      },
      "source": [
        "data[\"Content\"][0]"
      ],
      "execution_count": 197,
      "outputs": [
        {
          "output_type": "execute_result",
          "data": {
            "application/vnd.google.colaboratory.intrinsic+json": {
              "type": "string"
            },
            "text/plain": [
              "'new charge likely theranos founder elizabeth holmes report articlejust week federal judge announced trial theranos founder elizabeth holmes would postponed amid novel coronavirus pandemic prosecutor filed new court paper indicating plan add charge embattled businesswoman prosecutor submitted superseding information friday expected indict holmes additional wire fraud charge reported individual cannon indicted without grand jury process meaning move would likely stalled grand jury able convene not expected least june according report meantime prosecutor filed newest wire fraud charge information serf way provide defense attorney advance notice come attorney former federal prosecutor david calloway told outlet advertisement never seen happen course practiced year without ever pandemic grand jury not sitting said holmes originally scheduled go trial summer date since pushed back least oct allege holmes former chief operating officer ramesh sunny balwani deliberately misled investor policymakers public accuracy theranos blood testing technology two pleaded not guilty wire fraud conspiracy commit wire fraud convicted could face maximum penalty year prison million fine plus possible restitution department justice said february pair number charge dropped holmes forfeited control theranos agreed pay fine settle charge security exchange commission committed massive fraud saw investor pour million firm associated press contributed report'"
            ]
          },
          "metadata": {
            "tags": []
          },
          "execution_count": 197
        }
      ]
    },
    {
      "cell_type": "code",
      "metadata": {
        "id": "gBgiXVCVmm5c",
        "colab_type": "code",
        "colab": {
          "base_uri": "https://localhost:8080/",
          "height": 35
        },
        "outputId": "bb0d3125-0386-4748-890b-f3171b80683a"
      },
      "source": [
        "preprocessed_data_list = []\n",
        "for sentance in tqdm(data[\"Content\"].values):\n",
        "    preprocessed_data_list.append(sentance.strip())"
      ],
      "execution_count": 198,
      "outputs": [
        {
          "output_type": "stream",
          "text": [
            "100%|██████████| 366/366 [00:00<00:00, 101643.07it/s]\n"
          ],
          "name": "stderr"
        }
      ]
    },
    {
      "cell_type": "code",
      "metadata": {
        "id": "Ip6MMmdUv1Al",
        "colab_type": "code",
        "colab": {
          "base_uri": "https://localhost:8080/",
          "height": 104
        },
        "outputId": "7c7a3207-1ce8-4dbc-b6e7-84fc37f479f9"
      },
      "source": [
        "from tqdm import tqdm\n",
        "tqdm.pandas(desc=\"progress-bar\")\n",
        "from gensim.models import Doc2Vec\n",
        "from sklearn import utils\n",
        "import gensim\n",
        "from gensim.models.doc2vec import TaggedDocument\n",
        "import re\n",
        "!pip install sklearn \n",
        "from sklearn.model_selection import train_test_split\n",
        "\n",
        " \n",
        "\n",
        "\n",
        "def label_sentences(corpus, label_type):\n",
        "    labeled = []\n",
        "    for i, v in enumerate(corpus):\n",
        "        label = label_type + '_' + str(i)\n",
        "        labeled.append(TaggedDocument(v.split(), [label]))\n",
        "    \n",
        "    return labeled\n"
      ],
      "execution_count": 199,
      "outputs": [
        {
          "output_type": "stream",
          "text": [
            "Requirement already satisfied: sklearn in /usr/local/lib/python3.6/dist-packages (0.0)\n",
            "Requirement already satisfied: scikit-learn in /usr/local/lib/python3.6/dist-packages (from sklearn) (0.22.2.post1)\n",
            "Requirement already satisfied: scipy>=0.17.0 in /usr/local/lib/python3.6/dist-packages (from scikit-learn->sklearn) (1.4.1)\n",
            "Requirement already satisfied: joblib>=0.11 in /usr/local/lib/python3.6/dist-packages (from scikit-learn->sklearn) (0.16.0)\n",
            "Requirement already satisfied: numpy>=1.11.0 in /usr/local/lib/python3.6/dist-packages (from scikit-learn->sklearn) (1.18.5)\n"
          ],
          "name": "stdout"
        }
      ]
    },
    {
      "cell_type": "code",
      "metadata": {
        "id": "Dog7W58Wv8zr",
        "colab_type": "code",
        "colab": {}
      },
      "source": [
        "X_train, X_test = train_test_split(data.Content, random_state=0, test_size=0.3)\n",
        "X_train = label_sentences(X_train, 'Train')\n",
        "X_test = label_sentences(X_test, 'Test')\n",
        "all_data = X_train + X_test"
      ],
      "execution_count": 200,
      "outputs": []
    },
    {
      "cell_type": "code",
      "metadata": {
        "id": "gDEQrBPZwEli",
        "colab_type": "code",
        "colab": {
          "base_uri": "https://localhost:8080/",
          "height": 211
        },
        "outputId": "569c157b-889a-41b7-fd18-3d5e42809299"
      },
      "source": [
        "all_data[:10]"
      ],
      "execution_count": 217,
      "outputs": [
        {
          "output_type": "execute_result",
          "data": {
            "text/plain": [
              "[TaggedDocument(words=['radio', 'parliamentthe', 'chamber', 'deputy', 'discussing', 'today', 'simple', 'motion', 'tabled', 'social', 'democrat', 'opposition', 'demand', 'resignation', 'fierrorce', 'minister', 'florin', 'c', 'u', 'argue', 'month', 'governing', 'state', 'emergency', 'no', 'measure', 'taken', 'avoid', 'economic', 'disaster', 'fierrorce', 'minister', 'unable', 'come', 'efficient', 'measure', 'support', 'business', 'environment', 'vote', 'motion', 'due', 'wednesday', 'today', 'q', 'session', 'chamber', 'deputy', 'healthcare', 'minister', 'nell', 'tatar', 'invited', 'present', 'measure', 'taken', 'fight', 'curb', 'coronavirus', 'outbreak', 'meanwhile', 'labour', 'minister', 'violeta', 'alexandra', 'foreign', 'minister', 'bogdan', 'aurescu', 'heard', 'today', 'senate', 'special', 'committee', 'respect', 'measure', 'protect', 'romanian', 'worker', 'left', 'country', 'work', 'abroad', 'government', 'pas', 'bill', 'today', 'meeting', 'concerning', 'measure', 'prevent', 'contain', 'epidemic', 'may', 'state', 'emergency', 'replaced', 'state', 'alert', 'according', 'latest', 'official', 'data', 'total', 'number', 'case', 'romania', 'death', 'patient', 'recovered', 'among', 'romanian', 'living', 'abroad', 'tested', 'positive', 'novel', 'coronavirus', 'mostly', 'italy', 'spain', 'died', 'since', 'start', 'pandemic', 'deficitromania', 'report', 'trade', 'deficit', 'billion', 'euro', 'first', 'quarter', 'year', 'million', 'euro', 'corresponding', 'period', 'national', 'statistic', 'institute', 'announced', 'today', 'according', 'institution', 'first', 'month', 'export', 'amounted', 'billion', 'euro', 'import', 'billion', 'euro', 'accounting', 'increase', 'since', 'march', 'romania', 'export', 'dropped', 'nearly', 'million', 'euro', 'billion', 'euro', 'compared', 'march', 'total', 'trade', 'within', 'eu', 'january', 'march', 'year', 'reached', 'billion', 'euro', 'export', 'billion', 'euro', 'romanian', 'national', 'living', 'saudi', 'arabia', 'returned', 'country', 'last', 'night', 'thanks', 'combined', 'effort', 'foreign', 'ministry', 'transport', 'ministry', 'interior', 'ministry', 'romanian', 'authority', 'also', 'helped', 'repatriation', 'serb', 'citizen', 'hungarian', 'national', 'foreign', 'ministry', 'firmly', 'reiterates', 'previous', 'recommendation', 'avoid', 'non', 'essential', 'travel', 'abroad', 'may', 'entail', 'major', 'risk', 'jeopardising', 'citizen', 'safety', 'return', 'romania', 'foreign', 'ministry', 'also', 'urge', 'romanian', 'citizen', 'living', 'abroad', 'strictly', 'comply', 'rule', 'host', 'country', 'say', 'trip', 'romania', 'must', 'avoided', 'period', 'trip', 'increasingly', 'affected', 'restriction', 'introduced', 'relevant', 'transit', 'country', 'may', 'hinder', 'romanian', 'authority', 'assistance', 'effort', 'international', 'travel', 'may', 'also', 'contribute', 'spreading', 'disease', 'jeopardising', 'safety', 'traveller', 'family', 'home', 'pandemicit', 'month', 'today', 'since', 'world', 'health', 'organisation', 'declared', 'outbreak', 'pandemic', 'total', 'number', 'case', 'worldwide', 'far', 'million', 'death', 'toll', 'standing', 'million', 'people', 'recovered', 'disease', 'usa', 'worst', 'hit', 'country', 'world', 'announced', 'death', 'coronavirus', 'patient', 'hour', 'smallest', 'number', 'since', 'march', 'take', 'death', 'toll', 'nearly', 'europe', 'country', 'largest', 'number', 'death', 'uk', 'announced', 'extension', 'restriction', 'june', 'italy', 'second', 'worst', 'hit', 'country', 'europe', 'death', 'pm', 'giuseppe', 'conte', 'online', 'meeting', 'regional', 'authority', 'take', 'decision', 'regarding', 'lifting', 'restriction', 'may', 'apart', 'current', 'one', 'include', 'opening', 'shop', 'church', 'museum', 'measure', 'may', 'differ', 'one', 'region', 'another', 'depending', 'number', 'case', 'future', 'development', 'fraudthe', 'interpol', 'secretary', 'general', 'jurgen', 'stock', 'warned', 'drastic', 'increase', 'illegal', 'sale', 'fake', 'medical', 'product', 'linked', 'interview', 'german', 'agency', 'dpa', 'stock', 'say', 'uncertified', 'personal', 'protection', 'equipment', 'including', 'substandard', 'protective', 'mask', 'counterfeiter', 'hand', 'sanitised', 'already', 'promoted', 'global', 'crime', 'quickly', 'adapted', 'pandemic', 'sense', 'criminal', 'take', 'advantage', 'people', 'new', 'fear', 'concern', 'interpol', 'chief', 'emphasised', 'warned', 'cyber', 'crime', 'grow', 'alongside', 'number', 'people', 'working', 'home', 'overall', 'pandemic', 'may', 'give', 'long', 'term', 'impetus', 'crime', 'people', 'lost', 'mean', 'subsistence', 'may', 'resort', 'breaking', 'law', 'stock', 'predicts', 'translated', 'ana', 'maria', 'popescu'], tags=['Train_0']),\n",
              " TaggedDocument(words=['coronavirus', 'live', 'uk', 'boris', 'johnson', 'plan', 'near', 'normality', 'july', 'school', 'called', 'absolutely', 'safe', 'lockdown', 'easing', 'continues', 'extra', 'train', 'take', 'commuter', 'back', 'workengland', 'continuing', 'move', 'lockdown', 'people', 'returning', 'work', 'extra', 'train', 'railway', 'government', 'seek', 'restart', 'economic', 'activity', 'many', 'people', 'spent', 'weekend', 'sunbathing', 'picnic', 'outdoors', 'public', 'transport', 'operator', 'preparing', 'carry', 'extra', 'commuter', 'office', 'factory', 'building', 'site', 'monday', 'move', 'come', 'start', 'first', 'full', 'working', 'week', 'since', 'boris', 'johnson', 'set', 'plan', 'easing', 'coronavirus', 'lockdown', 'england', 'urging', 'employee', 'unable', 'work', 'home', 'return', 'place', 'employment', 'sought', 'start', 'economic', 'activity', 'faced', 'criticism', 'union', 'opposition', 'mp', 'accused', 'moving', 'quickly', 'devolved', 'administration', 'scotland', 'wale', 'northern', 'ireland', 'refused', 'follow', 'suit', 'many', 'recycling', 'centre', 'england', 'reopen', 'reported', 'increase', 'fly', 'tipping', 'discount', 'chain', 'poundland', 'reopen', 'store', 'early', 'morning', 'swimmer', 'enter', 'water', 'britain', 'oldest', 'swimming', 'club', 'serpentine', 'hyde', 'park', 'west', 'london', 'elsewhere', 'lorry', 'driver', 'make', 'bulk', 'exemption', 'plan', 'impose', 'quarantine', 'international', 'traveller', 'regardless', 'mode', 'travel', 'time', 'newspaper', 'reported'], tags=['Train_1']),\n",
              " TaggedDocument(words=['page', 'not', 'found', 'state', 'department', 'natural', 'resource', 'plan', 'restart', 'person', 'hunter', 'safety', 'course', 'hunter', 'advocacy', 'group', 'sued', 'last', 'week', 'alleging', 'department', 'no', 'authority', 'cancel', 'coronavirus', 'pandemic'], tags=['Train_2']),\n",
              " TaggedDocument(words=['ppp', 'change', 'horizon', 'byrebecca', 'edtwith', 'help', 'eleanor', 'muellereditor', 'note', 'morning', 'shift', 'free', 'version', 'politico', 'pro', 'employment', 'immigration', 'morning', 'newsletter', 'delivered', 'subscriber', 'morning', 'politico', 'pro', 'platform', 'combine', 'news', 'need', 'tool', 'use', 'take', 'action', 'day', 'biggest', 'story', 'act', 'news', 'politico', 'pro', 'lawmaker', 'weighing', 'changesto', 'paycheck', 'protection', 'program', 'california', 'sued', 'user', 'left', 'alleging', 'misclassify', 'driver', 'independent', 'contractor', 'new', 'lawsuit', 'challenge', 'provision', 'care', 'actthat', 'prevents', 'child', 'undocumented', 'immigrant', 'receiving', 'stimulus', 'check', 'good', 'morning', 'wednesday', 'may', 'morning', 'shift', 'tipsheet', 'employment', 'immigration', 'news', 'send', 'tip', 'exclusive', 'suggestion', 'torrainey', 'politico', 'comandtnoah', 'politico', 'com', 'follow', 'u', 'twitter', 'change', 'horizon', 'sen', 'marco', 'rubio', 'r', 'fla', 'michael', 'bennet', 'cold', 'lawmaker', 'weighing', 'big', 'change', 'federal', 'rescue', 'effort', 'small', 'business', 'address', 'growing', 'complaint', 'employer', 'rule', 'existing', 'program', 'incomplete', 'unworkable', 'zachary', 'warmbrodt', 'report', 'among', 'proposalsto', 'revamp', 'multi', 'billion', 'paycheck', 'protection', 'program', 'lengthen', 'period', 'time', 'small', 'business', 'spend', 'money', 'allow', 'business', 'spend', 'le', 'aid', 'retain', 'employee', 'cover', 'fixed', 'cost', 'like', 'rent', 'expand', 'relief', 'larger', 'company', 'america', 'recovery', 'fund', 'coalition', 'group', 'trade', 'association', 'business', 'group', 'also', 'pushing', 'congress', 'create', 'recovery', 'fund', 'ailing', 'employer', 'warning', 'overwhelming', 'need', 'additional', 'capital', 'support', 'business', 'discussion', 'come', 'congressbegins', 'debate', 'measure', 'include', 'next', 'round', 'coronavirus', 'aid', 'help', 'worker', 'business', 'weather', 'economic', 'fallout', 'pandemic', 'related', 'do', 'file', 'first', 'fraud', 'charge', 'related', 'small', 'business', 'loan', 'program', 'ellie', 'mejdrich', 'top', 'tax', 'writer', 'want', 'minuchin', 'change', 'course', 'ppp', 'related', 'tax', 'aaron', 'lorenzoca', 'sue', 'gig', 'company', 'misclassification', 'california', 'attorney', 'general', 'xavier', 'becerra', 'announced', 'lawsuit', 'tuesday', 'user', 'left', 'charging', 'rideshare', 'company', 'misclassify', 'driver', 'dispatched', 'via', 'apps', 'independent', 'contractor', 'jeremy', 'b', 'white', 'report', 'passenger', 'wait', 'board', 'ride', 'hailing', 'vehicle', 'mario', 'tama', 'getty', 'imagesthe', 'coronavirus', 'pandemichas', 'intensified', 'debate', 'company', 'obligation', 'driver', 'seek', 'unemployment', 'benefit', 'amid', 'declining', 'demand', 'driver', 'gig', 'platform', 'filed', 'normal', 'unemployment', 'system', 'statehave', 'received', 'determination', 'benefit', 'glitch', 'state', 'official', 'attributed', 'gig', 'company', 'failing', 'share', 'wage', 'information', 'driver', 'state', 'labor', 'officialshave', 'said', 'worker', 'may', 'get', 'money', 'faster', 'applying', 'newly', 'created', 'federal', 'unemployment', 'benefit', 'self', 'employed', 'worker', 'critic', 'blasted', 'tech', 'company', 'encouraging', 'worker', 'tap', 'fund', 'even', 'though', 'company', 'not', 'pay', 'tax', 'supply', 'state', 'unemployment', 'insurance', 'revenue', 'white', 'writes', 'becerra', 'underscored', 'point', 'saying', 'lawsuit', 'merited', 'company', 'eschewing', 'hundred', 'million', 'dollar', 'safety', 'net', 'obligation', 'not', 'offering', 'benefit', 'like', 'paid', 'sick', 'leave', 'unemployment', 'insurance', 'scoop', 'katy', 'murphy', 'statesseek', 'bill', 'pay', 'unemployment', 'claim', 'nine', 'state', 'asked', 'labor', 'department', 'billion', 'federal', 'advance', 'cover', 'astronomical', 'cost', 'unemployment', 'payouts', 'amid', 'pandemic', 'illinois', 'topping', 'list', 'billion', 'request', 'according', 'new', 'information', 'provided', 'politico', 'tuesday', 'night', 'agency', 'california', 'first', 'state', 'borrow', 'plan', 'request', 'next', 'highest', 'amount', 'billion', 'total', 'may', 'june', 'texas', 'ask', 'advance', 'totalling', 'billion', 'may', 'june', 'july', 'new', 'york', 'ask', 'billion', 'three', 'month', 'million', 'americanshave', 'filed', 'unemployment', 'claim', 'since', 'mid', 'march', 'detail', 'murphy', 'lawsuit', 'immigrant', 'exclusion', 'care', 'georgetown', 'law', 'institute', 'constitutional', 'advocacy', 'protection', 'filed', 'class', 'action', 'lawsuit', 'tuesday', 'provision', 'care', 'act', 'h', 'r', 'excludes', 'child', 'immigrant', 'receiving', 'emergency', 'stimulus', 'check', 'complaint', 'filed', 'maryland', 'federal', 'court', 'behalf', 'seven', 'child', 'u', 'citizen', 'argues', 'law', 'violates', 'constitution', 'equal', 'protection', 'clause', 'specifically', 'lawsuit', 'challenge', 'provision', 'care', 'act', 'limited', 'eligibility', 'economic', 'relief', 'check', 'adult', 'plus', 'additional', 'per', 'child', 'worker', 'posse', 'social', 'security', 'number', 'qualification', 'denies', 'benefit', 'undocumented', 'immigrant', 'even', 'legal', 'immigrant', 'including', 'many', 'foreign', 'student', 'spouse', 'file', 'tax', 'using', 'individual', 'taxpayer', 'identification', 'number', 'also', 'preventsan', 'estimated', 'million', 'u', 'citizen', 'childrenwith', 'parent', 'undocumented', 'use', 'tin', 'receiving', 'stimulus', 'check', 'care', 'act', 'outlier', 'denying', 'government', 'aid', 'intended', 'benefit', 'child', 'u', 'citizen', 'child', 'simply', 'parent', 'undocumented', 'status', 'lawsuit', 'argues', 'pointing', 'federal', 'program', 'like', 'child', 'tax', 'credit', 'supplemental', 'nutrition', 'assistance', 'program', 'offer', 'benefit', 'eligible', 'u', 'citizen', 'child', 'regardless', 'parent', 'immigration', 'status', 'complaint', 'refresher', 'democratic', 'governor', 'mayor', 'bucking', 'trump', 'stimulus', 'benefit', 'immigrant', 'politicosmithfield', 'safety', 'suit', 'dismissed', 'federal', 'court', 'tuesday', 'dismissed', 'lawsuit', 'againstleading', 'meat', 'company', 'smithfieldthat', 'sought', 'greater', 'safety', 'protection', 'worker', 'plant', 'missouri', 'deferring', 'sha', 'currently', 'investigating', 'plant', 'due', 'expertise', 'experience', 'workplace', 'regulation', 'sha', 'coordination', 'usa', 'per', 'executive', 'order', 'better', 'positioned', 'make', 'determination', 'court', 'wrote', 'u', 'district', 'court', 'judge', 'greg', 'kaysin', 'granting', 'smithfield', 'motion', 'dismiss', 'suit', 'lawsuit', 'filed', 'advocacy', 'groupsand', 'plant', 'employee', 'argued', 'smithfield', 'failing', 'provide', 'sufficient', 'protective', 'gear', 'allow', 'social', 'distancing', 'job', 'not', 'complied', 'recommended', 'federal', 'safety', 'guideline', 'court', 'found', 'smithfield', 'compliance', 'sha', 'cdc', 'safety', 'guidance', 'meatpacking', 'industry', 'guidance', 'issued', 'april', 'three', 'day', 'lawsuit', 'filed', 'even', 'court', 'reasoning', 'thing', 'made', 'smithfield', 'operation', 'plant', 'no', 'longer', 'clear', 'offense', 'public', 'order', 'change', 'would', 'made', 'since', 'client', 'filed', 'lawsuit', 'said', 'david', 'seligman', 'non', 'profit', 'towards', 'justice', 'represented', 'worker', 'suit', 'civil', 'justice', 'system', 'continue', 'powerful', 'force', 'challenge', 'life', 'threatening', 'working', 'condition', 'due', 'baldwin', 'wish', 'send', 'letter', 'today', 'ceo', 'smithfield', 'job', 'usa', 'holding', 'tyson', 'food', 'pressing', 'regarding', 'disturbing', 'report', 'unsafe', 'working', 'condition', 'facility', 'failing', 'follow', 'recommended', 'safety', 'guideline', 'unwillingnessto', 'implement', 'recommended', 'safety', 'precaution', 'timely', 'manner', 'led', 'death', 'spread', 'illness', 'preventable', 'writes', 'baldwin', 'letter', 'u', 'company', 'cut', 'thousand', 'worker', 'continuing', 'reward', 'shareholder', 'pandemic', 'washington', 'post', 'newspaper', 'top', 'editor', 'homeless', 'logger', 'new', 'york', 'time', 'start-ups', 'vcs', 'try', 'place', 'tech', 'worker', 'layoff', 'surge', 'wall', 'street', 'journal', 'airbnb', 'cut', 'job', 'travel', 'industry', 'reel', 'san', 'francisco', 'chronicle', 'united', 'airline', 'cut', 'management', 'rank', 'wall', 'street', 'journal', 'top', 'nbcuniversal', 'executive', 'take', 'pay', 'cut', 'amid', 'coronavirus', 'fallout', 'los', 'angeles', 'timeshouse', 'dems', 'craft', 'next', 'coronavirus', 'relief', 'bill', 'house', 'democrat', 'rushing', 'shape', 'next', 'coronavirus', 'response', 'package', 'house', 'speakernancy', 'pelositelling', 'chairman', 'submit', 'proposal', 'time', 'full', 'text', 'readied', 'week', 'p', 'emosi', 'deputy', 'sketched', 'outlineof', 'trillion', 'dollar', 'plus', 'package', 'would', 'deliver', 'aid', 'state', 'local', 'government', 'brink', 'public', 'service', 'cut', 'shoring', 'safety', 'net', 'program', 'nation', 'vulnerable', 'heather', 'caygle', 'sarah', 'ferris', 'report', 'bill', 'could', 'reach', 'floor', 'vote', 'soon', 'next', 'week', 'several', 'top', 'democrat', 'skeptical', 'tideline', 'republican', 'meanwhile', 'divided', 'whether', 'include', 'payroll', 'tax', 'cut', 'next', 'passage', 'president', 'donald', 'trump', 'vying', 'also', 'whether', 'anything', 'politico', 'burgess', 'everett', 'writes', 'house', 'democrat', 'pitch', 'loan', 'forgiveness', 'health', 'care', 'essential', 'worker', 'job', 'opening', 'closed', 'amid', 'pandemic', 'employer', 'closed', 'percent', 'job', 'opening', 'since', 'early', 'march', 'according', 'glassdoor', 'report', 'released', 'tuesday', 'analysis', 'also', 'found', 'employer', 'fewer', 'job', 'opening', 'since', 'mid', 'march', 'employer', 'pulled', 'job', 'opening', 'altogether', 'great', 'reopening', 'half', 'state', 'plan', 'reopen', 'economy', 'already', 'done', 'business', 'navigating', 'unfamiliar', 'post', 'pandemic', 'economy', 'coffee', 'giant', 'starbucksplans', 'reopen', 'percent', 'u', 'shop', 'end', 'week', 'aha', 'bhattarai', 'report', 'washington', 'post', 'emphasis', 'mobile', 'ordering', 'contactless', 'pickup', 'cashless', 'payment', 'meanwhile', 'traditional', 'restaurant', 'scrambling', 'adjust', 'social', 'distancing', 'rule', 'tight', 'kitchen', 'environment', 'install', 'hand', 'free', 'bathroom', 'accessory', 'sneeze', 'guard', 'generate', 'disposable', 'menu', 'stock', 'single', 'serve', 'condiment', 'laura', 'riley', 'also', 'wrote', 'post', 'broadway', 'considers', 'path', 'forward', 'show', 'go', 'washington', 'post', 'major', 'u', 'automaker', 'expected', 'reopen', 'factory', 'within', 'week', 'associated', 'press', 'workplace', 'reopen', 'coronavirus', 'could', 'unleash', 'avalanche', 'lawsuit', 'family', 'leave', 'discrimination', 'washington', 'postbiden', 'campaign', 'reach', 'ca', 'field', 'organizer', 'joe', 'biden', 'presidential', 'bid', 'unionized', 'teamster', 'local', 'ratified', 'contract', 'campaign', 'sean', 'sullivan', 'report', 'washington', 'post', 'contract', 'mark', 'first', 'time', 'major', 'party', 'apparent', 'presidential', 'nominee', 'employ', 'unionized', 'worker', 'collective', 'bargaining', 'agreement', 'writes', 'tested', 'positive', 'coronavirus', 'amazon', 'not', 'pay', 'sick', 'leave', 'one', 'month', 'buzzfeed', 'news', 'baseball', 'bracing', 'economic', 'hit', 'question', 'bad', 'washington', 'post', 'united', 'airline', 'labor', 'harmony', 'start', 'unravel', 'biggest', 'union', 'look', 'sue', 'cutback', 'forbes', 'world', 'come', 'halt', 'amid', 'pandemic', 'migrant', 'new', 'york', 'time', 'like', 'petri', 'dish', 'virus', 'ice', 'detention', 'center', 'threaten', 'rural', 'south', 'politico', 'magazine', 'trump', 'push', 'reopen', 'country', 'workforce', 'rushing', 'back', 'politico', 'top', 'senate', 'democrat', 'urge', 'his', 'dol', 'recruit', 'unemployed', 'health', 'worker', 'politico', 'essential', 'worker', 'trap', 'vox', 'icymi', 'florida', 'inspector', 'general', 'investigate', 'failed', 'unemployment', 'portal', 'politicothat', 'morning', 'shift', 'follow', 'u', 'twitterrebecca', 'rainey', 'rebeccaaraineyfollow', 'u', 'view', 'archivesrebecca', 'rainey', 'employment', 'immigration', 'reporter', 'politico', 'pro', 'author', 'morning', 'shift', 'newsletter', 'prior', 'joining', 'politico', 'august', 'rainey', 'covered', 'occupational', 'safety', 'health', 'administration', 'regulatory', 'reform', 'capitol', 'hill', 'work', 'published', 'washington', 'post', 'associated', 'press', 'among', 'outlet', 'rainey', 'hold', 'bachelor', 'degree', 'philip', 'merrill', 'college', 'journalism', 'university', 'maryland', 'born', 'raised', 'eastern', 'shore', 'maryland', 'grew', 'minute', 'beach', 'love', 'camp', 'hike', 'water', 'whenever', 'read'], tags=['Train_3']),\n",
              " TaggedDocument(words=['prevent', 'future', 'personal', 'connection', 'like', 'home', 'run', 'anti', 'virus', 'scan', 'device', 'make', 'sure', 'not', 'infected', 'malware', 'office', 'shared', 'network', 'ask', 'network', 'administrator', 'run', 'scan', 'across', 'network', 'looking', 'misconfigured', 'infected', 'device', 'another', 'way', 'prevent', 'getting', 'page', 'future', 'use', 'privacy', 'pas', 'may', 'need', 'download', 'version', 'thechrome', 'web', 'store'], tags=['Train_4']),\n",
              " TaggedDocument(words=['al', 'unavailable', 'due', 'legal', 'reasonswe', 'recognize', 'attempting', 'access', 'website', 'country', 'belonging', 'european', 'economic', 'area', 'eea', 'including', 'eu', 'enforces', 'thegeneral', 'data', 'protection', 'regulation', 'gdp', 'therefore', 'access', 'cannon', 'granted', 'time', 'issue', 'contactnews', 'freemanonline', 'comer'], tags=['Train_5']),\n",
              " TaggedDocument(words=['glitch', 'sends', 'duplicate', 'ballot', 'voter', 'system', 'prevents', 'double', 'voting', 'county', 'say', 'glitch', 'sends', 'duplicate', 'ballot', 'voter', 'system', 'prevents', 'double', 'voting', 'county', 'saysbychris', 'potter', 'may', 'fitzgerald', 'urged', 'voter', 'adopt', 'mail', 'votingsarah', 'wesaallegheny', 'county', 'effort', 'encourage', 'mail', 'voting', 'june', 'primary', 'may', 'almost', 'successful', 'state', 'database', 'apparently', 'sent', 'duplicate', 'ballot', 'struggle', 'keep', 'demand', 'although', 'county', 'say', 'no', 'matter', 'many', 'ballot', 'come', 'mail', 'no', 'one', 'get', 'single', 'vote', 'release', 'sent', 'late', 'thursday', 'afternoon', 'county', 'election', 'division', 'said', 'problem', 'state', 'sure', 'system', 'voter', 'registration', 'database', 'caused', 'printing', 'duplicate', 'label', 'mailing', 'absentee', 'ballot', 'according', 'release', 'printing', 'order', 'large', 'system', 'timing', 'employee', 'clear', 'condition', 'system', 'sends', 'rest', 'job', 'printer', 'apparently', 'also', 'returning', 'job', 'queue', 'reprinted', 'issue', 'impacting', 'allegheny', 'county', 'time', 'due', 'successful', 'effort', 'encouraging', 'mail', 'ballot', 'option', 'resident', 'statement', 'said', 'said', 'county', 'worker', 'addressed', 'problem', 'requesting', 'smaller', 'print', 'batch', 'monitoring', 'processing', 'time', 'not', 'clear', 'many', 'voter', 'received', 'duplicate', 'ballot', 'long', 'problem', 'persisted', 'county', 'spokeswoman', 'said', 'no', 'way', 'know', 'scope', 'problem', 'friday', 'call', 'reporter', 'county', 'election', 'manager', 'dave', 'vote', 'agreed', 'full', 'scope', 'many', 'mailed', 'said', 'later', 'adding', 'county', 'unlikely', 'obtain', 'one', 'said', 'county', 'determined', 'issue', 'began', 'late', 'april', 'addressed', 'earlier', 'week', 'county', 'statement', 'stressed', 'even', 'person', 'receives', 'multiple', 'ballot', 'one', 'return', 'ballot', 'counted', 'barcode', 'label', 'used', 'tracking', 'exactly', 'barcode', 'duplicate', 'label', 'identical', 'ballot', 'scanned', 'office', 'receives', 'mail', 'system', 'disregard', 'vote', 'whose', 'label', 'already', 'scanned', 'duplicate', 'ballot', 'set', 'aside', 'not', 'counted', 'allegheny', 'county', 'executive', 'rich', 'fitzgerald', 'vigorously', 'promoted', 'voting', 'mail', 'effort', 'limit', 'person', 'voting', 'spread', 'coronavirus', 'june', 'primary', 'voter', 'allegheny', 'county', 'requested', 'ballot', 'county', 'state', 'county', 'said', 'today', 'received', 'request', 'mail', 'absentee', 'ballot', 'least', 'last', 'week', 'no', 'county', 'cracked', 'six', 'digit', 'mark', 'promoting', 'month', 'month', 'making', 'easy', 'want', 'limit', 'amount', 'folk', 'go', 'vote', 'election', 'day', 'fitzgerald', 'told', 'west', 'last', 'week', 'baldwin', 'township', 'democrat', 'ally', 'above', 'husband', 'heeded', 'call', 'applied', 'mail', 'ballot', 'early', 'april', 'received', 'one', 'last', 'week', 'received', 'duplicate', 'ballot', 'day', 'returned', 'first', 'ballot', 'above', 'said', 'called', 'election', 'office', 'make', 'sure', 'right', 'find', 'duplicate', 'ballot', 'wanted', 'make', 'sure', 'look', 'like', 'tried', 'vote', 'twice', 'knowingthat', 'crazy', 'story', 'woman', 'texas', 'got', 'sent', 'jail', 'fraud', 'above', 'said', 'yet', 'hear', 'back', 'county', 'though', 'vote', 'said', 'friday', 'county', 'would', 'not', 'prosecute', 'anyone', 'returning', 'duplicate', 'ballot', 'mail', 'voting', 'still', 'feel', 'like', 'safest', 'option', 'going', 'right', 'perhaps', 'little', 'le', 'confident', 'process', 'republican', 'raised', 'concern', 'potential', 'fraud', 'mail', 'ballot', 'election', 'official', 'pennsylvania', 'expressed', 'misgiving', 'logistics', 'processing', 'huge', 'number', 'ballot', 'application', 'change', 'state', 'law', 'made', 'voting', 'mail', 'far', 'easier', 'coronavirus', 'made', 'incredibly', 'popular', 'jeff', 'greenberg', 'manages', 'election', 'mercer', 'county', 'told', 'west', 'earlier', 'month', 'sure', 'system', 'part', 'bottleneck', 'election', 'worker', 'faced', 'dealing', 'influx', 'mail', 'request', 'county', 'limited', 'number', 'terminal', 'access', 'system', 'limited', 'number', 'staff', 'verify', 'voter', 'information', 'people', 'receiving', 'ballot', 'worried', 'crush', 'last', 'minute', 'ballot', 'application', 'would', 'strain', 'system', 'no', 'matter', 'seen', 'far', 'might', 'not', 'seen', 'anything', 'yet', 'greenberg', 'said', 'department', 'state', 'not', 'immediately', 'respond', 'west', 'query', 'whether', 'similar', 'problem', 'could', 'crop', 'county', 'prompted', 'large', 'print', 'job', 'sudden', 'influx', 'ballot', 'request', 'republican', 'committee', 'allegheny', 'county', 'chair', 'sam', 'demarco', 'say', 'first', 'began', 'hearing', 'voter', 'receiving', 'duplicate', 'ballot', 'week', 'ago', 'said', 'aware', 'well', 'dozen', 'case', 'raised', 'issue', 'along', 'several', 'concern', 'list', 'sent', 'county', 'official', 'monday', 'demarco', 'one', 'two', 'large', 'member', 'allegheny', 'county', 'council', 'sits', 'county', 'board', 'election', 'said', 'took', 'comfort', 'bar', 'code', 'exactly', 'thus', 'would', 'trigger', 'flag', 'anyone', 'tried', 'use', 'duplicate', 'ballot', 'reassure', 'people', 'said', 'said', 'sympathetic', 'election', 'worker', 'said', 'hit', 'perfect', 'storm', 'past', 'year', 'office', 'required', 'purchase', 'new', 'voting', 'machine', 'absorb', 'last', 'year', 'voting', 'law', 'change', 'get', 'hit', 'pandemic', 'demarco', 'said', 'demarco', 'say', 'overall', 'not', 'comfortable', 'anything', 'right', 'trying', 'presidential', 'election', 'year', 'partisan', 'atmosphere', 'important', 'demonstrate', 'integrity', 'process', 'people', 'right', 'asked', 'whether', 'expected', 'conservative', 'group', 'use', 'snafu', 'effort', 'cast', 'aspersion', 'voting', 'process', 'demarco', 'said', 'think', 'within', 'anyone', 'right', 'start', 'asking', 'question', 'think', 'important', 'election', 'tell', 'everyone', 'safe', 'mail', 'ballot', 'people', 'getting', 'ballot', 'even', 'ask', 'vote', 'election', 'manager', 'asked', 'friday', 'press', 'call', 'concern', 'county', 'ability', 'handle', 'volume', 'mail', 'ballot', 'application', 'receiving', 'not', 'doubt', 'said', 'whatever', 'take', 'including', 'adding', 'third', 'shift', 'worker', 'handle', 'request', 'still', 'said', 'later', 'county', 'received', 'application', 'far', 'already', 'eclipsing', 'vote', 'might', 'expected', 'uncontested', 'presidential', 'primary', 'please', 'bear', 'u', 'said', 'voter', 'concern', 'absentee', 'section', 'inundated', 'phone', 'call', 'story', 'updated', 'p', 'may', 'include', 'comment', 'county', 'election', 'manager', 'dave', 'electionlocal', 'story'], tags=['Train_6']),\n",
              " TaggedDocument(words=['coronavirus', 'ex', 'trump', 'aide', 'paul', 'manafort', 'released', 'prison', 'due', 'ovid', 'concern', 'paul', 'manafort', 'donald', 'trump', 'onetime', 'u', 'presidential', 'campaign', 'chairman', 'convicted', 'part', 'special', 'counsel', 'russia', 'investigation', 'released', 'federal', 'prison', 'serve', 'rest', 'sentence', 'home', 'confinement', 'due', 'concern', 'coronavirus', 'lawyer', 'said', 'manafort', 'let', 'thursday', 'not', 'morning', 'ici', 'loretto', 'low', 'security', 'prison', 'pennsylvania', 'according', 'attorney', 'todd', 'blanche', 'manafort', 'jailed', 'since', 'june', 'serving', 'seven', 'year', 'prison', 'following', 'conviction', 'release', 'come', 'prison', 'advocate', 'congressional', 'leader', 'pressing', 'justice', 'department', 'week', 'release', 'risk', 'inmate', 'potential', 'outbreak', 'system', 'argue', 'public', 'health', 'guidance', 'stay', 'foot', 'meter', 'away', 'people', 'nearly', 'impossible', 'behind', 'bar', 'manafort', 'not', 'meet', 'qualification', 'set', 'bureau', 'prison', 'potential', 'release', 'pandemic', 'read', 'ex', 'trump', 'lawyer', 'michael', 'cohen', 'released', 'prison', 'coronavirus', 'judge', 'let', 'rapper', 'takashi', 'jail', 'citing', 'youth', 'offender', 'bottle', 'sanitised', 'community', 'combat', 'person', 'jog', 'past', 'condom', 'building', 'paul', 'manafort', 'u', 'president', 'donald', 'trump', 'former', 'campaign', 'chairman', 'lived', 'incarcerated', 'alexandria', 'virginia', 'bureau', 'guideline', 'priority', 'supposed', 'given', 'inmate', 'served', 'half', 'sentence', 'inmate', 'month', 'le', 'left', 'served', 'least', 'per', 'cent', 'time', 'bureau', 'discretion', 'released', 'lawyer', 'asked', 'bureau', 'prison', 'release', 'home', 'confinement', 'arguing', 'high', 'risk', 'coronavirus', 'age', 'preexisting', 'medical', 'condition', 'manafort', 'hospitalised', 'december', 'heart', 'related', 'condition', 'two', 'people', 'familiar', 'matter', 'toldthe', 'associated', 'pressat', 'time', 'not', 'authorised', 'discus', 'matter', 'publicly', 'spoke', 'ap', 'condition', 'anonymity', 'high', 'profile', 'inmate', 'trump', 'former', 'personal', 'lawyer', 'michael', 'cohen', 'lawyer', 'michael', 'avenatti', 'rose', 'fame', 'representing', 'porn', 'star', 'stormy', 'daniel', 'lawsuit', 'trump', 'told', 'getting', 'kathy', 'hawk', 'sawyer', 'senior', 'adviser', 'bureau', 'prison', 'formerly', 'led', 'agency', 'said', 'interview', 'late', 'april', 'suggest', 'identifying', 'high', 'profile', 'white', 'collar', 'inmate', 'home', 'confinement', 'absurd', 'bureau', 'prison', 'spokeswoman', 'said', 'inmate', 'moved', 'home', 'confinement', 'since', 'march', 'barr', 'first', 'issued', 'home', 'confinement', 'memo', 'others', 'approved', 'pipeline', 'released', 'prison', 'official', 'not', 'give', 'demographic', 'information', 'bureau', 'given', 'contradictory', 'confusing', 'guidance', 'deciding', 'released', 'home', 'confinement', 'effort', 'combat', 'virus', 'changing', 'requirement', 'setting', 'inmate', 'release', 'backing', 'refusing', 'explain', 'decides', 'get', 'attorney', 'general', 'william', 'barr', 'ordered', 'agency', 'march', 'april', 'increase', 'use', 'home', 'confinement', 'expedite', 'release', 'eligible', 'high', 'risk', 'inmate', 'beginning', 'three', 'prison', 'identified', 'coronavirus', 'hot', 'spot', 'no', 'confirmed', 'coronavirus', 'case', 'ici', 'loretto', 'tuesday', 'federal', 'inmate', 'bop', 'staff', 'member', 'positive', 'test', 'result', 'federal', 'prison', 'across', 'country', 'fifty', 'inmate', 'died', 'manafort', 'among', 'first', 'people', 'charged', 'special', 'counsel', 'robert', 'mueller', 'russia', 'investigation', 'examined', 'possible', 'coordination', 'trump', 'campaign', 'russia', 'election', 'campaign', 'manafort', 'prosecuted', 'two', 'federal', 'court', 'convicted', 'jury', 'federal', 'court', 'virginia', 'later', 'pleaded', 'guilty', 'washington', 'sentenced', 'last', 'march', 'immediately', 'hit', 'state', 'charge', 'new', 'york', 'prosecutor', 'accused', 'giving', 'false', 'information', 'mortgage', 'loan', 'application', 'new', 'york', 'judge', 'threw', 'state', 'mortgage', 'fraud', 'charge', 'ruling', 'criminal', 'case', 'similar', 'one', 'already', 'landed', 'manafort', 'prison', 'prosecutor', 'pledged', 'appeal'], tags=['Train_7']),\n",
              " TaggedDocument(words=['justice', 'fear', 'supreme', 'court', 'justice', 'invoked', 'fear', 'bribery', 'chaos', 'wednesday', 'suggest', 'think', 'state', 'require', 'presidential', 'elector', 'back', 'state', 'popular', 'vote', 'winner', 'electoral', 'college', 'justice', 'heard', 'argument', 'unusual', 'voting', 'issue', 'could', 'important', 'consequence', 'presidential', 'election', 'era', 'intense', 'political', 'polarization', 'focus', 'question', 'whether', 'state', 'replace', 'elector', 'decide', 'vote', 'someone', 'state', 'popular', 'vote', 'winner', 'not', 'would', 'lead', 'chaos', 'justice', 'samuel', 'alto', 'said', 'popular', 'vote', 'close', 'changing', 'vote', 'would', 'alter', 'outcome', 'politicslocal', 'state', 'national', 'politicsunited', 'state', 'hour', 'agotrump', 'denies', 'briefing', 'reported', 'bounty', 'u', 'troopsracial', 'hour', 'agoblack', 'candidate', 'push', 'race', 'debate', 'got', 'held', 'districtsjustice', 'clarence', 'thomas', 'asked', 'state', 'remove', 'someone', 'example', 'openly', 'solicit', 'payment', 'vote', 'wednesday', 'court', 'final', 'day', 'argument', 'telephone', 'may', 'livestreamed', 'audio', 'dealt', 'whether', 'presidential', 'elector', 'bound', 'support', 'popular', 'vote', 'winner', 'state', 'opt', 'someone', 'else', 'argument', 'scheduled', 'courtroom', 'april', 'postponed', 'coronavirus', 'pandemic', 'called', 'faithless', 'elector', 'not', 'critical', 'outcome', 'presidential', 'election', 'could', 'change', 'contest', 'razor', 'thin', 'margin', 'thirty', 'two', 'state', 'district', 'columbia', 'require', 'presidential', 'elector', 'vote', 'popular', 'vote', 'winner', 'elector', 'almost', 'always', 'anyway', 'constitution', 'country', 'elect', 'president', 'indirectly', 'voter', 'choosing', 'people', 'actually', 'cast', 'electoral', 'college', 'ballot', 'president', 'take', 'vote', 'win', 'justice', 'ruth', 'bader', 'ginsburg', 'said', 'people', 'become', 'elector', 'pledging', 'support', 'candidate', 'troubled', 'ginsburg', 'said', 'made', 'promise', 'something', 'promise', 'unenforceable', 'issue', 'arose', 'lawsuit', 'filed', 'three', 'hillary', 'clinton', 'elector', 'washington', 'state', 'one', 'colorado', 'refused', 'vote', 'despite', 'popular', 'vote', 'win', 'state', 'hoped', 'persuade', 'enough', 'elector', 'state', 'donald', 'trump', 'choose', 'someone', 'else', 'deny', 'trump', 'presidency', 'federal', 'appeal', 'court', 'denver', 'ruled', 'elector', 'vote', 'please', 'rejecting', 'argument', 'must', 'choose', 'popular', 'vote', 'winner', 'washington', 'state', 'supreme', 'court', 'upheld', 'fine', 'three', 'elector', 'rejected', 'claim', 'faithless', 'elector', 'including', 'fourth', 'washington', 'democratic', 'elector', 'hawaii', 'two', 'republican', 'elector', 'texas', 'addition', 'democratic', 'elector', 'said', 'would', 'not', 'vote', 'clinton', 'replaced', 'maine', 'minnesota', 'harvard', 'law', 'school', 'professor', 'lawrence', 'lessing', 'favour', 'broad', 'reform', 'voting', 'redistricting', 'way', 'campaign', 'funded', 'represented', 'washington', 'elector', 'supreme', 'court', 'lessing', 'briefly', 'sought', 'democratic', 'nomination', 'called', 'presidential', 'elector', 'support', 'clinton', 'national', 'popular', 'vote', 'four', 'year', 'ago', 'lessing', 'warned', 'binding', 'elector', 'could', 'open', 'door', 'restriction', 'including', 'denying', 'electoral', 'vote', 'candidate', 'visit', 'state', 'fail', 'release', 'tax', 'return', 'campaign', 'legal', 'center', 'also', 'support', 'campaign', 'finance', 'redistricting', 'reform', 'warned', 'legal', 'filing', 'high', 'court', 'ruling', 'elector', 'free', 'agent', 'creates', 'possibility', 'presidential', 'campaign', 'outside', 'group', 'could', 'direct', 'large', 'sum', 'money', 'crucial', 'wavering', 'elector', 'closest', 'electoral', 'college', 'margin', 'recent', 'year', 'republican', 'george', 'w', 'bush', 'received', 'vote', 'democrat', 'al', 'gore', 'one', 'elector', 'washington', 'c', 'left', 'ballot', 'blank', 'supreme', 'court', 'played', 'decisive', 'role', 'election', 'ending', 'recount', 'florida', 'bush', 'held', 'margin', 'million', 'ballot', 'cast', 'justice', 'scheduled', 'separate', 'argument', 'washington', 'colorado', 'case', 'justice', 'sonia', 'sotomayor', 'belatedly', 'removed', 'colorado', 'case', 'know', 'one', 'plaintiff'], tags=['Train_8']),\n",
              " TaggedDocument(words=['california', 'mail', 'voter', 'ballot', 'november', 'election', 'nick', 'corasaniti', 'jennifer', 'medina', 'new', 'york', 'timesgov', 'gavin', 'newsom', 'california', 'friday', 'ordered', 'ballot', 'sent', 'state', 'million', 'voter', 'november', 'election', 'becoming', 'first', 'state', 'alter', 'voting', 'plan', 'general', 'election', 'response', 'public', 'health', 'concern', 'wrought', 'coronavirus', 'pandemic', 'california', 'greatly', 'expanded', 'vote', 'mail', 'operation', 'past', 'election', 'roughly', 'state', 'voted', 'mail', 'mid-term', 'election', 'decision', 'largest', 'state', 'country', 'greatly', 'reduce', 'person', 'voting', 'recognition', 'state', 'official', 'coronavirus', 'outbreak', 'unlikely', 'subside', 'fall', 'lot', 'concern', 'anxiety', 'around', 'november', 'election', 'term', 'making', 'sure', 'conduct', 'safe', 'way', 'make', 'sure', 'health', 'protected', 'newsom', 'said', 'news', 'conference', 'friday', 'added', 'still', 'want', 'appropriate', 'number', 'physical', 'site', 'people', 'vote', 'well', 'newsom', 'said', 'official', 'would', 'working', 'next', 'day', 'week', 'determine', 'person', 'voting', 'would', 'conducted', 'november', 'responsibility', 'largely', 'fall', 'county', 'official', 'must', 'find', 'larger', 'polling', 'place', 'eliminate', 'senior', 'center', 'retirement', 'home', 'long', 'served', 'site', 'online', 'fundraiser', 'joe', 'biden', 'friday', 'evening', 'newsom', 'said', 'hoped', 'move', 'would', 'inspire', 'others', 'across', 'country', 'specifically', 'added', 'including', 'red', 'state', 'follow', 'suit', 'according', 'pool', 'report', 'biden', 'praised', 'saying', 'also', 'protecting', 'cornerstone', 'democracy', 'right', 'vote', 'newsom', 'formally', 'endorsed', 'biden', 'candidacy', 'saying', 'honoured', 'supporting', 'presidency', 'shifting', 'broader', 'vote', 'mail', 'system', 'california', 'trying', 'avoid', 'public', 'health', 'debacle', 'wrought', 'april', 'election', 'wisconsin', 'voter', 'poll', 'worker', 'weighed', 'health', 'risk', 'congregating', 'en', 'mass', 'pandemic', 'right', 'vote', 'state', 'around', 'country', 'sought', 'expand', 'vote', 'mail', 'operation', 'primary', 'election', 'new', 'york', 'gov', 'andrew', 'cuomo', 'ordered', 'postage', 'paid', 'ballot', 'sent', 'every', 'voter', 'primary', 'ohio', 'primary', 'april', 'conducted', 'nearly', 'entirely', 'absentee', 'ballot', 'smartest', 'healthy', 'way', 'able', 'exercise', 'right', 'vote', 'said', 'alex', 'padilla', 'california', 'secretary', 'state', 'urging', 'state', 'adopt', 'similar', 'policy', 'thing', 'need', 'prepare', 'accessible', 'election', 'need', 'begin', 'happening', 'move', 'widely', 'expected', 'among', 'california', 'official', 'overwhelmingly', 'democrat', 'supported', 'expansive', 'voting', 'right', 'including', 'day', 'voter', 'registration', 'eager', 'preserve', 'early', 'week', 'pandemic', 'newsom', 'signed', 'order', 'mail', 'ballot', 'registered', 'voter', 'congressional', 'district', 'special', 'election', 'held', 'tuesday', 'race', 'far', 'republican', 'mailing', 'back', 'ballot', 'much', 'higher', 'rate', 'democrat', 'higher', 'number', 'registered', 'voter', 'district', 'overall', 'friday', 'roughly', 'republican', 'already', 'cast', 'vote', 'compared', 'democrat', 'according', 'tracking', 'data', 'though', 'republican', 'national', 'committee', 'objected', 'state', 'attempt', 'mail', 'ballot', 'every', 'voter', 'effort', 'overturn', 'newsom', 'order', 'could', 'difficult', 'politically', 'legally', 'though', 'voter', 'fraud', 'exceedingly', 'rare', 'united', 'state', 'trump', 'campaign', 'continued', 'push', 'false', 'narrative', 'vote', 'mail', 'fraud', 'continued', 'argument', 'statement', 'cnn', 'friday', 'night', 'attempting', 'paint', 'newsom', 'executive', 'order', 'thinly', 'veiled', 'political', 'tactic', 'undermine', 'election', 'security', 'california', 'republican', 'party', 'echoed', 'president', 'comment', 'questioning', 'election', 'integrity', 'statement', 'claiming', 'vote', 'mail', 'plan', 'not', 'task', 'democrat', 'adequately', 'manage', 'safely', 'execute', 'need', 'assurance', 'election', 'safe', 'fair', 'monitored', 'ensure', 'accurate', 'timely', 'result', 'californian', 'deserve', 'said', 'jessica', 'millan', 'patterson', 'chairwoman', 'california', 'got', 'statement', 'also', 'called', 'governor', 'stop', 'practice', 'ballot', 'harvesting', 'term', 'collecting', 'ballot', 'person', 'no', 'indication', 'practice', 'could', 'continue', 'social', 'distancing', 'measure'], tags=['Train_9'])]"
            ]
          },
          "metadata": {
            "tags": []
          },
          "execution_count": 217
        }
      ]
    },
    {
      "cell_type": "code",
      "metadata": {
        "id": "Z9VCcccKwFb3",
        "colab_type": "code",
        "colab": {
          "base_uri": "https://localhost:8080/",
          "height": 555
        },
        "outputId": "09a2e9f3-5288-4a90-9f52-dc216000b2a4"
      },
      "source": [
        "#Hyperparameter optimization on Doc2Vec\n",
        "model_dbow = Doc2Vec(dm=0, vector_size=300, negative=5, min_count=1, alpha=0.065, min_alpha=0.065)\n",
        "model_dbow.build_vocab([x for x in tqdm(all_data)])\n",
        "\n",
        " \n",
        "\n",
        "for epoch in range(30):\n",
        "    model_dbow.train(utils.shuffle([x for x in tqdm(all_data)]), total_examples=len(all_data), epochs=1)\n",
        "    model_dbow.alpha -= 0.002\n",
        "    model_dbow.min_alpha = model_dbow.alpha"
      ],
      "execution_count": 202,
      "outputs": [
        {
          "output_type": "stream",
          "text": [
            "100%|██████████| 366/366 [00:00<00:00, 158963.99it/s]\n",
            "100%|██████████| 366/366 [00:00<00:00, 256023.23it/s]\n",
            "100%|██████████| 366/366 [00:00<00:00, 81676.79it/s]\n",
            "100%|██████████| 366/366 [00:00<00:00, 517396.45it/s]\n",
            "100%|██████████| 366/366 [00:00<00:00, 145701.90it/s]\n",
            "100%|██████████| 366/366 [00:00<00:00, 485949.75it/s]\n",
            "100%|██████████| 366/366 [00:00<00:00, 210809.57it/s]\n",
            "100%|██████████| 366/366 [00:00<00:00, 525005.22it/s]\n",
            "100%|██████████| 366/366 [00:00<00:00, 146508.42it/s]\n",
            "100%|██████████| 366/366 [00:00<00:00, 492972.15it/s]\n",
            "100%|██████████| 366/366 [00:00<00:00, 439231.84it/s]\n",
            "100%|██████████| 366/366 [00:00<00:00, 175001.74it/s]\n",
            "100%|██████████| 366/366 [00:00<00:00, 791704.62it/s]\n",
            "100%|██████████| 366/366 [00:00<00:00, 520731.09it/s]\n",
            "100%|██████████| 366/366 [00:00<00:00, 435740.92it/s]\n",
            "100%|██████████| 366/366 [00:00<00:00, 541295.93it/s]\n",
            "100%|██████████| 366/366 [00:00<00:00, 344041.97it/s]\n",
            "100%|██████████| 366/366 [00:00<00:00, 94340.91it/s]\n",
            "100%|██████████| 366/366 [00:00<00:00, 481378.26it/s]\n",
            "100%|██████████| 366/366 [00:00<00:00, 807530.39it/s]\n",
            "100%|██████████| 366/366 [00:00<00:00, 95920.72it/s]\n",
            "100%|██████████| 366/366 [00:00<00:00, 645006.41it/s]\n",
            "100%|██████████| 366/366 [00:00<00:00, 501507.76it/s]\n",
            "100%|██████████| 366/366 [00:00<00:00, 534138.92it/s]\n",
            "100%|██████████| 366/366 [00:00<00:00, 133732.49it/s]\n",
            "100%|██████████| 366/366 [00:00<00:00, 471327.99it/s]\n",
            "100%|██████████| 366/366 [00:00<00:00, 178170.30it/s]\n",
            "100%|██████████| 366/366 [00:00<00:00, 428205.09it/s]\n",
            "100%|██████████| 366/366 [00:00<00:00, 162257.19it/s]\n",
            "100%|██████████| 366/366 [00:00<00:00, 670941.99it/s]\n",
            "100%|██████████| 366/366 [00:00<00:00, 166679.18it/s]\n"
          ],
          "name": "stderr"
        }
      ]
    },
    {
      "cell_type": "code",
      "metadata": {
        "id": "ZNOYRMZewX36",
        "colab_type": "code",
        "colab": {}
      },
      "source": [
        "import numpy as np\n",
        "def get_vectors(model, corpus_size, vectors_size, vectors_type):\n",
        "    vectors = np.zeros((corpus_size, vectors_size))\n",
        "    for i in range(0, corpus_size):\n",
        "        prefix = vectors_type + '_' + str(i)\n",
        "        vectors[i] = model.docvecs[prefix]\n",
        "    return vectors\n",
        "    \n",
        "train_vectors_dbow = get_vectors(model_dbow, len(X_train), 300, 'Train')\n",
        "test_vectors_dbow = get_vectors(model_dbow, len(X_test), 300, 'Test')"
      ],
      "execution_count": 214,
      "outputs": []
    },
    {
      "cell_type": "code",
      "metadata": {
        "id": "8lP-l2ILwaTy",
        "colab_type": "code",
        "colab": {
          "base_uri": "https://localhost:8080/",
          "height": 35
        },
        "outputId": "6d37b97b-1bbc-4b9f-a04f-9cdcc8c2d1cf"
      },
      "source": [
        "train_vectors_dbow.shape"
      ],
      "execution_count": 204,
      "outputs": [
        {
          "output_type": "execute_result",
          "data": {
            "text/plain": [
              "(256, 300)"
            ]
          },
          "metadata": {
            "tags": []
          },
          "execution_count": 204
        }
      ]
    },
    {
      "cell_type": "code",
      "metadata": {
        "id": "VK_qXxMEwX2R",
        "colab_type": "code",
        "colab": {
          "base_uri": "https://localhost:8080/",
          "height": 191
        },
        "outputId": "0c3ff665-2b27-4a18-c19e-12833cf1cecf"
      },
      "source": [
        "train_vectors_dbow[:5]"
      ],
      "execution_count": 205,
      "outputs": [
        {
          "output_type": "execute_result",
          "data": {
            "text/plain": [
              "array([[ 0.25013834, -0.66278213,  0.78228927, ..., -0.32098705,\n",
              "        -0.6785388 ,  0.19991799],\n",
              "       [-0.10712358, -0.11356347,  0.0152091 , ...,  0.03142258,\n",
              "        -0.07047015, -0.71627283],\n",
              "       [-0.04641719, -0.03328178,  0.11567879, ..., -0.1335905 ,\n",
              "         0.4651283 , -0.32288182],\n",
              "       [-0.10117311, -0.68141741,  0.78811723, ..., -0.17723276,\n",
              "         0.32916698, -0.37166786],\n",
              "       [-0.04543055, -0.4273656 ,  0.38197887, ..., -0.19037518,\n",
              "        -0.02204683, -0.20353192]])"
            ]
          },
          "metadata": {
            "tags": []
          },
          "execution_count": 205
        }
      ]
    },
    {
      "cell_type": "code",
      "metadata": {
        "id": "Tsi2rDBiO9Es",
        "colab_type": "code",
        "colab": {}
      },
      "source": [
        "import numpy as np\n",
        "import pandas as pd\n",
        "from matplotlib import pyplot as plt\n",
        "from sklearn.datasets.samples_generator import make_blobs\n",
        "from sklearn.cluster import KMeans"
      ],
      "execution_count": 206,
      "outputs": []
    },
    {
      "cell_type": "code",
      "metadata": {
        "id": "AEB7GGdaP9cd",
        "colab_type": "code",
        "colab": {
          "base_uri": "https://localhost:8080/",
          "height": 295
        },
        "outputId": "610098f8-acee-4e7f-f538-ae4db7ec4174"
      },
      "source": [
        "wcss = []\n",
        "for i in range(1, 11):\n",
        "    kmeans = KMeans(n_clusters=i, init='k-means++', max_iter=300, n_init=10, random_state=0)\n",
        "    kmeans.fit(train_vectors_dbow)\n",
        "    wcss.append(kmeans.inertia_)\n",
        "plt.plot(range(1, 11), wcss)\n",
        "plt.title('Elbow Method')\n",
        "plt.xlabel('Vector Score')\n",
        "plt.ylabel('Articles')\n",
        "plt.show()"
      ],
      "execution_count": 207,
      "outputs": [
        {
          "output_type": "display_data",
          "data": {
            "image/png": "[encoded data removed]",
            "text/plain": [
              "<Figure size 432x288 with 1 Axes>"
            ]
          },
          "metadata": {
            "tags": [],
            "needs_background": "light"
          }
        }
      ]
    },
    {
      "cell_type": "code",
      "metadata": {
        "id": "6n2YDahTQAgm",
        "colab_type": "code",
        "colab": {
          "base_uri": "https://localhost:8080/",
          "height": 265
        },
        "outputId": "d4864f2e-e495-4550-8e81-216e6e6025bc"
      },
      "source": [
        "kmeans = KMeans(n_clusters=4, init='k-means++', max_iter=300, n_init=10, random_state=0)\n",
        "pred_y = kmeans.fit_predict(train_vectors_dbow)\n",
        "labels = pred_y\n",
        "plt.scatter(train_vectors_dbow[:,0], train_vectors_dbow[:,1])\n",
        "plt.scatter(kmeans.cluster_centers_[:, 0], kmeans.cluster_centers_[:, 1], s=60, c='red')\n",
        "plt.show()"
      ],
      "execution_count": 211,
      "outputs": [
        {
          "output_type": "display_data",
          "data": {
            "image/png": "[encoded data removed]",
            "text/plain": [
              "<Figure size 432x288 with 1 Axes>"
            ]
          },
          "metadata": {
            "tags": [],
            "needs_background": "light"
          }
        }
      ]
    },
    {
      "cell_type": "code",
      "metadata": {
        "id": "3cVoESijRNph",
        "colab_type": "code",
        "colab": {
          "base_uri": "https://localhost:8080/",
          "height": 265
        },
        "outputId": "8528fb6d-53e8-4b5a-ece9-e03ee6b238e4"
      },
      "source": [
        "import matplotlib.pyplot as plt\n",
        "%matplotlib inline\n",
        "plt.figure\n",
        "label1 = ['#FFFF00', '#008000', '#0000FF', '#800080']\n",
        "color = [label1[i] for i in labels]\n",
        "plt.scatter(train_vectors_dbow[:,0], train_vectors_dbow[:,1], c=color)\n",
        "plt.scatter(kmeans.cluster_centers_[:, 0], kmeans.cluster_centers_[:, 1], s=50, c='red')\n",
        "plt.show()"
      ],
      "execution_count": 212,
      "outputs": [
        {
          "output_type": "display_data",
          "data": {
            "image/png": "[encoded data removed]",
            "text/plain": [
              "<Figure size 432x288 with 1 Axes>"
            ]
          },
          "metadata": {
            "tags": [],
            "needs_background": "light"
          }
        }
      ]
    }
  ]
}